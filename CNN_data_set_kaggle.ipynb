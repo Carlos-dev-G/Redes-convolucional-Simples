{
  "cells": [
    {
      "cell_type": "markdown",
      "metadata": {
        "id": "view-in-github",
        "colab_type": "text"
      },
      "source": [
        "<a href=\"https://colab.research.google.com/github/Carlos-dev-G/Redes-convolucional-Simples/blob/main/CNN_data_set_kaggle.ipynb\" target=\"_parent\"><img src=\"https://colab.research.google.com/assets/colab-badge.svg\" alt=\"Open In Colab\"/></a>"
      ]
    },
    {
      "cell_type": "code",
      "source": [
        "import tensorflow as tf\n",
        "from tensorflow.keras.preprocessing.image import ImageDataGenerator\n",
        "import matplotlib.pyplot as plt\n",
        "import os\n",
        "import kagglehub\n",
        "\n",
        "# Descargar el conjunto de datos de tipos de cabello\n",
        "path = kagglehub.dataset_download(\"kavyasreeb/hair-type-dataset\")\n",
        "print(\"Ruta a los archivos del conjunto de datos:\", path)\n",
        "\n",
        "# Definir la ruta a los datos (ajusta según la estructura del conjunto de datos)\n",
        "data_dir = os.path.join(path, \"data\")\n",
        "\n",
        "# Configurar los generadores de datos\n",
        "# Aumento de datos para el conjunto de entrenamiento\n",
        "datagen_entrenamiento = ImageDataGenerator(\n",
        "    rescale=1./255,                # Normalizar las imágenes\n",
        "    rotation_range=20,             # Rotar imágenes aleatoriamente\n",
        "    width_shift_range=0.2,         # Desplazar horizontalmente\n",
        "    height_shift_range=0.2,        # Desplazar verticalmente\n",
        "    shear_range=0.2,               # Aplicar corte\n",
        "    zoom_range=0.2,                # Zoom aleatorio\n",
        "    horizontal_flip=True,          # Invertir horizontalmente\n",
        "    fill_mode='nearest'            # Rellenar con el valor más cercano\n",
        ")\n",
        "\n",
        "# Generador para el conjunto de validación\n",
        "datagen_validacion = ImageDataGenerator(rescale=1./255)  # Solo normalización\n",
        "\n",
        "# Crear generadores de datos\n",
        "datos_entrenamiento = datagen_entrenamiento.flow_from_directory(\n",
        "    data_dir,\n",
        "    target_size=(224, 224),        # Redimensionar las imágenes\n",
        "    batch_size=32,\n",
        "    class_mode='sparse',           # Para clasificación multiclase\n",
        "    shuffle=True\n",
        ")\n",
        "\n",
        "datos_validacion = datagen_validacion.flow_from_directory(\n",
        "    data_dir,\n",
        "    target_size=(224, 224),        # Redimensionar las imágenes\n",
        "    batch_size=32,\n",
        "    class_mode='sparse',           # Para clasificación multiclase\n",
        "    shuffle=False\n",
        ")\n",
        "\n",
        "# Obtener el número de clases y los nombres de las clases\n",
        "nombres_clases = datos_entrenamiento.class_indices\n",
        "num_clases = len(nombres_clases)\n",
        "\n",
        "# Crear el modelo de red neuronal\n",
        "modelo = tf.keras.Sequential([\n",
        "    tf.keras.layers.Input(shape=(224, 224, 3)),  # Tamaño de imagen reducido\n",
        "    tf.keras.layers.Conv2D(32, (3, 3), activation=\"relu\"),\n",
        "    tf.keras.layers.MaxPooling2D(2, 2),\n",
        "    tf.keras.layers.Dropout(0.2),\n",
        "\n",
        "    tf.keras.layers.Conv2D(64, (3, 3), activation=\"relu\"),\n",
        "    tf.keras.layers.MaxPooling2D(2, 2),\n",
        "    tf.keras.layers.Dropout(0.3),\n",
        "\n",
        "    tf.keras.layers.Conv2D(128, (3, 3), activation=\"relu\"),\n",
        "    tf.keras.layers.MaxPooling2D(2, 2),\n",
        "    tf.keras.layers.Dropout(0.4),\n",
        "\n",
        "    tf.keras.layers.Conv2D(256, (3, 3), activation=\"relu\"),\n",
        "    tf.keras.layers.MaxPooling2D(2, 2),\n",
        "    tf.keras.layers.Dropout(0.5),\n",
        "\n",
        "    tf.keras.layers.Conv2D(512, (3, 3), activation=\"relu\"),\n",
        "    tf.keras.layers.MaxPooling2D(2, 2),\n",
        "    tf.keras.layers.Dropout(0.5),\n",
        "\n",
        "    tf.keras.layers.Flatten(),\n",
        "    tf.keras.layers.Dense(units=128, activation='relu'),\n",
        "    tf.keras.layers.Dense(num_clases, activation='softmax')\n",
        "])\n",
        "\n",
        "# Compilar el modelo\n",
        "modelo.compile(\n",
        "    optimizer='adam',\n",
        "    loss=tf.keras.losses.SparseCategoricalCrossentropy(),\n",
        "    metrics=['accuracy']\n",
        ")\n",
        "\n",
        "# Entrenar el modelo\n",
        "historial = modelo.fit(\n",
        "    datos_entrenamiento,\n",
        "    epochs=15,\n",
        "    validation_data=datos_validacion\n",
        ")"
      ],
      "metadata": {
        "id": "_wbu7DLW_rDQ"
      },
      "execution_count": null,
      "outputs": []
    },
    {
      "cell_type": "code",
      "source": [
        "# Visualizar algunas predicciones\n",
        "def mostrar_predicciones(generator, num=9):\n",
        "    imagenes, etiquetas = next(generator)\n",
        "    predicciones = modelo.predict(imagenes)\n",
        "\n",
        "    plt.figure(figsize=(10, 10))\n",
        "    for i in range(num):\n",
        "        plt.subplot(3, 3, i + 1)\n",
        "        plt.imshow(imagenes[i])  # Mostrar la imagen\n",
        "        plt.title(f\"Predicción: {list(nombres_clases.keys())[tf.argmax(predicciones[i]).numpy()]} \\n Real: {list(nombres_clases.keys())[int(etiquetas[i])]}\")\n",
        "        plt.axis('off')\n",
        "    plt.show()\n",
        "\n",
        "# Visualizar algunas predicciones del conjunto de validación\n",
        "mostrar_predicciones(datos_validacion)"
      ],
      "metadata": {
        "id": "Ag3wqJgocGhm"
      },
      "execution_count": null,
      "outputs": []
    }
  ],
  "metadata": {
    "accelerator": "GPU",
    "colab": {
      "provenance": [],
      "include_colab_link": true
    },
    "gpuClass": "standard",
    "kernelspec": {
      "display_name": "Python 3",
      "name": "python3"
    },
    "language_info": {
      "name": "python"
    }
  },
  "nbformat": 4,
  "nbformat_minor": 0
}